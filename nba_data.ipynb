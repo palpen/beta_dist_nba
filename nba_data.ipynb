{
 "cells": [
  {
   "cell_type": "markdown",
   "metadata": {},
   "source": [
    "## Get 3 point  for seasons 2010 to 2017 for every player in the NBA"
   ]
  },
  {
   "cell_type": "code",
   "execution_count": 1,
   "metadata": {
    "collapsed": true
   },
   "outputs": [],
   "source": [
    "import goldsberry\n",
    "import pandas as pd"
   ]
  },
  {
   "cell_type": "code",
   "execution_count": 84,
   "metadata": {
    "collapsed": false
   },
   "outputs": [
    {
     "data": {
      "text/plain": [
       "array([u'AST', u'BLK', u'DREB', u'FG3A', u'FG3M', u'FG3_PCT', u'FGA',\n",
       "       u'FGM', u'FG_PCT', u'FTA', u'FTM', u'FT_PCT', u'GAME_DATE',\n",
       "       u'Game_ID', u'MATCHUP', u'MIN', u'OREB', u'PF', u'PLUS_MINUS',\n",
       "       u'PTS', u'Player_ID', u'REB', u'SEASON_ID', u'STL', u'TOV',\n",
       "       u'VIDEO_AVAILABLE', u'WL'], dtype=object)"
      ]
     },
     "execution_count": 84,
     "metadata": {},
     "output_type": "execute_result"
    }
   ],
   "source": [
    "player_id = 203500\n",
    "player = players2016.ix[players2016[\"PERSON_ID\"]==player_id]\n",
    "\n",
    "# a player's season log\n",
    "player_logs = goldsberry.player.game_logs(player_id)\n",
    "player_logs_df = pd.DataFrame(player_logs.logs())\n",
    "player_logs_df.columns.values"
   ]
  },
  {
   "cell_type": "code",
   "execution_count": 42,
   "metadata": {
    "collapsed": false
   },
   "outputs": [
    {
     "name": "stdout",
     "output_type": "stream",
     "text": [
      "0\n",
      "<type 'str'>\n"
     ]
    },
    {
     "data": {
      "text/html": [
       "<div>\n",
       "<table border=\"1\" class=\"dataframe\">\n",
       "  <thead>\n",
       "    <tr style=\"text-align: right;\">\n",
       "      <th></th>\n",
       "      <th>firstname</th>\n",
       "      <th>lastname</th>\n",
       "    </tr>\n",
       "  </thead>\n",
       "  <tbody>\n",
       "    <tr>\n",
       "      <th>0</th>\n",
       "      <td>Quincy</td>\n",
       "      <td>Acy</td>\n",
       "    </tr>\n",
       "  </tbody>\n",
       "</table>\n",
       "</div>"
      ],
      "text/plain": [
       "  firstname lastname\n",
       "0    Quincy      Acy"
      ]
     },
     "execution_count": 42,
     "metadata": {},
     "output_type": "execute_result"
    }
   ],
   "source": [
    "# get player data\n",
    "\n",
    "#initialize dataframe\n",
    "nba_log = pd.DataFrame()\n",
    "\n",
    "\n",
    "players2016 = goldsberry.PlayerList(Season='2016-17').players()\n",
    "players2016_df = pd.DataFrame(players2016)\n",
    "\n",
    "for index, pid in enumerate(players2016_df[\"PERSON_ID\"].unique()[1:2]):\n",
    "    \n",
    "    print index\n",
    "    # demographic information\n",
    "    player_demog = goldsberry.player.demographics(pid)\n",
    "    \n",
    "    firstname = player_demog.player_info()[0].get('FIRST_NAME')\n",
    "    lastname = player_demog.player_info()[0].get('LAST_NAME')\n",
    "    position = player_demog.player_info()[0].get('POSITION')\n",
    "    season_exp = player_demog.player_info()[0].get('SEASON_EXP')\n",
    "    \n",
    "    print type(firstname.encode('utf-8'))\n",
    "    player_data = pd.DataFrame({\"firstname\": firstname.encode('utf-8'),\n",
    "                                      \"lastname\": lastname.encode('utf-8'),\n",
    "                                      \"lastname\": lastname.encode('utf-8'),\n",
    "                                      \"position\": ,\n",
    "                                      \"season_exp\": ,\n",
    "                                      \"\": ,\n",
    "                                      \"\": ,\n",
    "                                      \"\": ,\n",
    "                                      \"\": ,\n",
    "                                      \"\": ,\n",
    "                                      }\n",
    "                                     index=[index])\n",
    "    nba_log = nba_log.append(player_demog_data)\n",
    "    \n",
    "#     # game logs\n",
    "#     player_logs = goldsberry.player.game_logs(pid)\n",
    "#     # print player_logs.logs()[0]\n",
    "    \n",
    "#     matchup = player_logs.logs()[0].get('MATCHUP')\n",
    "#     minutes = player_logs.logs()[0].get('MIN')\n",
    "#     fg3a = player_logs.logs()[0].get('FG3A')\n",
    "#     fg3m = player_logs.logs()[0].get('FG3M')\n",
    "#     fg3pct = player_logs.logs()[0].get('FG3_PCT')\n",
    "\n",
    "#     #     player_logs_df = pd.DataFrame(player_logs.logs())\n",
    "\n",
    "\n",
    "nba_log.head()\n",
    "    "
   ]
  },
  {
   "cell_type": "code",
   "execution_count": null,
   "metadata": {
    "collapsed": true
   },
   "outputs": [],
   "source": []
  }
 ],
 "metadata": {
  "kernelspec": {
   "display_name": "Python 2",
   "language": "python",
   "name": "python2"
  },
  "language_info": {
   "codemirror_mode": {
    "name": "ipython",
    "version": 2
   },
   "file_extension": ".py",
   "mimetype": "text/x-python",
   "name": "python",
   "nbconvert_exporter": "python",
   "pygments_lexer": "ipython2",
   "version": "2.7.12"
  }
 },
 "nbformat": 4,
 "nbformat_minor": 0
}
