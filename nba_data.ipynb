{
 "cells": [
  {
   "cell_type": "markdown",
   "metadata": {},
   "source": [
    "## Get 3 point  for seasons 2010 to 2017 for every player in the NBA"
   ]
  },
  {
   "cell_type": "code",
   "execution_count": 65,
   "metadata": {
    "collapsed": true
   },
   "outputs": [],
   "source": [
    "import goldsberry\n",
    "import pandas as pd"
   ]
  },
  {
   "cell_type": "code",
   "execution_count": 80,
   "metadata": {
    "collapsed": false
   },
   "outputs": [],
   "source": [
    "players2016 = goldsberry.PlayerList(Season='2016-17').players()"
   ]
  },
  {
   "cell_type": "code",
   "execution_count": 81,
   "metadata": {
    "collapsed": false
   },
   "outputs": [
    {
     "data": {
      "text/html": [
       "<div>\n",
       "<table border=\"1\" class=\"dataframe\">\n",
       "  <thead>\n",
       "    <tr style=\"text-align: right;\">\n",
       "      <th></th>\n",
       "      <th>DISPLAY_FIRST_LAST</th>\n",
       "      <th>DISPLAY_LAST_COMMA_FIRST</th>\n",
       "      <th>FROM_YEAR</th>\n",
       "      <th>GAMES_PLAYED_FLAG</th>\n",
       "      <th>PERSON_ID</th>\n",
       "      <th>PLAYERCODE</th>\n",
       "      <th>ROSTERSTATUS</th>\n",
       "      <th>TEAM_ABBREVIATION</th>\n",
       "      <th>TEAM_CITY</th>\n",
       "      <th>TEAM_CODE</th>\n",
       "      <th>TEAM_ID</th>\n",
       "      <th>TEAM_NAME</th>\n",
       "      <th>TO_YEAR</th>\n",
       "    </tr>\n",
       "  </thead>\n",
       "  <tbody>\n",
       "    <tr>\n",
       "      <th>0</th>\n",
       "      <td>Alex Abrines</td>\n",
       "      <td>Abrines, Alex</td>\n",
       "      <td>2016</td>\n",
       "      <td>Y</td>\n",
       "      <td>203518</td>\n",
       "      <td>alex_abrines</td>\n",
       "      <td>1</td>\n",
       "      <td>OKC</td>\n",
       "      <td>Oklahoma City</td>\n",
       "      <td>thunder</td>\n",
       "      <td>1610612760</td>\n",
       "      <td>Thunder</td>\n",
       "      <td>2016</td>\n",
       "    </tr>\n",
       "    <tr>\n",
       "      <th>1</th>\n",
       "      <td>Quincy Acy</td>\n",
       "      <td>Acy, Quincy</td>\n",
       "      <td>2012</td>\n",
       "      <td>Y</td>\n",
       "      <td>203112</td>\n",
       "      <td>quincy_acy</td>\n",
       "      <td>0</td>\n",
       "      <td></td>\n",
       "      <td></td>\n",
       "      <td></td>\n",
       "      <td>0</td>\n",
       "      <td></td>\n",
       "      <td>2016</td>\n",
       "    </tr>\n",
       "    <tr>\n",
       "      <th>2</th>\n",
       "      <td>Steven Adams</td>\n",
       "      <td>Adams, Steven</td>\n",
       "      <td>2013</td>\n",
       "      <td>Y</td>\n",
       "      <td>203500</td>\n",
       "      <td>steven_adams</td>\n",
       "      <td>1</td>\n",
       "      <td>OKC</td>\n",
       "      <td>Oklahoma City</td>\n",
       "      <td>thunder</td>\n",
       "      <td>1610612760</td>\n",
       "      <td>Thunder</td>\n",
       "      <td>2016</td>\n",
       "    </tr>\n",
       "    <tr>\n",
       "      <th>3</th>\n",
       "      <td>Arron Afflalo</td>\n",
       "      <td>Afflalo, Arron</td>\n",
       "      <td>2007</td>\n",
       "      <td>Y</td>\n",
       "      <td>201167</td>\n",
       "      <td>arron_afflalo</td>\n",
       "      <td>1</td>\n",
       "      <td>SAC</td>\n",
       "      <td>Sacramento</td>\n",
       "      <td>kings</td>\n",
       "      <td>1610612758</td>\n",
       "      <td>Kings</td>\n",
       "      <td>2016</td>\n",
       "    </tr>\n",
       "    <tr>\n",
       "      <th>4</th>\n",
       "      <td>Alexis Ajinca</td>\n",
       "      <td>Ajinca, Alexis</td>\n",
       "      <td>2008</td>\n",
       "      <td>Y</td>\n",
       "      <td>201582</td>\n",
       "      <td>alexis_ajinca</td>\n",
       "      <td>1</td>\n",
       "      <td>NOP</td>\n",
       "      <td>New Orleans</td>\n",
       "      <td>pelicans</td>\n",
       "      <td>1610612740</td>\n",
       "      <td>Pelicans</td>\n",
       "      <td>2016</td>\n",
       "    </tr>\n",
       "  </tbody>\n",
       "</table>\n",
       "</div>"
      ],
      "text/plain": [
       "  DISPLAY_FIRST_LAST DISPLAY_LAST_COMMA_FIRST FROM_YEAR GAMES_PLAYED_FLAG  \\\n",
       "0       Alex Abrines            Abrines, Alex      2016                 Y   \n",
       "1         Quincy Acy              Acy, Quincy      2012                 Y   \n",
       "2       Steven Adams            Adams, Steven      2013                 Y   \n",
       "3      Arron Afflalo           Afflalo, Arron      2007                 Y   \n",
       "4      Alexis Ajinca           Ajinca, Alexis      2008                 Y   \n",
       "\n",
       "   PERSON_ID     PLAYERCODE  ROSTERSTATUS TEAM_ABBREVIATION      TEAM_CITY  \\\n",
       "0     203518   alex_abrines             1               OKC  Oklahoma City   \n",
       "1     203112     quincy_acy             0                                    \n",
       "2     203500   steven_adams             1               OKC  Oklahoma City   \n",
       "3     201167  arron_afflalo             1               SAC     Sacramento   \n",
       "4     201582  alexis_ajinca             1               NOP    New Orleans   \n",
       "\n",
       "  TEAM_CODE     TEAM_ID TEAM_NAME TO_YEAR  \n",
       "0   thunder  1610612760   Thunder    2016  \n",
       "1                     0              2016  \n",
       "2   thunder  1610612760   Thunder    2016  \n",
       "3     kings  1610612758     Kings    2016  \n",
       "4  pelicans  1610612740  Pelicans    2016  "
      ]
     },
     "execution_count": 81,
     "metadata": {},
     "output_type": "execute_result"
    }
   ],
   "source": [
    "players2016 = pd.DataFrame(players2016)\n",
    "players2016.head()"
   ]
  },
  {
   "cell_type": "code",
   "execution_count": 82,
   "metadata": {
    "collapsed": false
   },
   "outputs": [
    {
     "name": "stdout",
     "output_type": "stream",
     "text": [
      "462\n"
     ]
    }
   ],
   "source": [
    "print len(players2016)"
   ]
  },
  {
   "cell_type": "code",
   "execution_count": 84,
   "metadata": {
    "collapsed": false
   },
   "outputs": [
    {
     "data": {
      "text/plain": [
       "array([u'AST', u'BLK', u'DREB', u'FG3A', u'FG3M', u'FG3_PCT', u'FGA',\n",
       "       u'FGM', u'FG_PCT', u'FTA', u'FTM', u'FT_PCT', u'GAME_DATE',\n",
       "       u'Game_ID', u'MATCHUP', u'MIN', u'OREB', u'PF', u'PLUS_MINUS',\n",
       "       u'PTS', u'Player_ID', u'REB', u'SEASON_ID', u'STL', u'TOV',\n",
       "       u'VIDEO_AVAILABLE', u'WL'], dtype=object)"
      ]
     },
     "execution_count": 84,
     "metadata": {},
     "output_type": "execute_result"
    }
   ],
   "source": [
    "player_id = 203500\n",
    "player = players2016.ix[players2016[\"PERSON_ID\"]==player_id]\n",
    "\n",
    "# a player's season log\n",
    "player_logs = goldsberry.player.game_logs(player_id)\n",
    "player_logs_df = pd.DataFrame(player_logs.logs())\n",
    "player_logs_df.columns.values"
   ]
  },
  {
   "cell_type": "code",
   "execution_count": 61,
   "metadata": {
    "collapsed": false,
    "scrolled": true
   },
   "outputs": [
    {
     "name": "stdout",
     "output_type": "stream",
     "text": [
      "             BIRTHDATE      COUNTRY DISPLAY_FIRST_LAST DISPLAY_FI_LAST  \\\n",
      "0  1993-07-20T00:00:00  New Zealand       Steven Adams        S. Adams   \n",
      "\n",
      "  DISPLAY_LAST_COMMA_FIRST DLEAGUE_FLAG DRAFT_NUMBER DRAFT_ROUND DRAFT_YEAR  \\\n",
      "0            Adams, Steven            N           12           1       2013   \n",
      "\n",
      "  FIRST_NAME  ...    ROSTERSTATUS      SCHOOL SEASON_EXP TEAM_ABBREVIATION  \\\n",
      "0     Steven  ...          Active  Pittsburgh          3               OKC   \n",
      "\n",
      "       TEAM_CITY TEAM_CODE     TEAM_ID TEAM_NAME TO_YEAR WEIGHT  \n",
      "0  Oklahoma City   thunder  1610612760   Thunder    2016    255  \n",
      "\n",
      "[1 rows x 29 columns]\n",
      "0    Center\n",
      "Name: POSITION, dtype: object\n"
     ]
    }
   ],
   "source": [
    "# player demographic\n",
    "player_demog = goldsberry.player.demographics(player_id)\n",
    "player_demog_df = pd.DataFrame(player_demog.player_info())\n",
    "print player_demog_df.head()\n",
    "print player_demog_df[\"POSITION\"]"
   ]
  },
  {
   "cell_type": "code",
   "execution_count": 69,
   "metadata": {
    "collapsed": false
   },
   "outputs": [
    {
     "data": {
      "text/plain": [
       "array([203518, 203112, 203500, 201167, 201582, 202332, 200746, 202730,\n",
       "         2754, 202329])"
      ]
     },
     "execution_count": 69,
     "metadata": {},
     "output_type": "execute_result"
    }
   ],
   "source": [
    "players2016[\"PERSON_ID\"].unique()[0:10]"
   ]
  },
  {
   "cell_type": "code",
   "execution_count": 78,
   "metadata": {
    "collapsed": false
   },
   "outputs": [
    {
     "name": "stdout",
     "output_type": "stream",
     "text": [
      "  DISPLAY_FIRST_LAST       POSITION\n",
      "0       Alex Abrines  Guard-Forward\n",
      "  DISPLAY_FIRST_LAST POSITION\n",
      "0         Quincy Acy         \n",
      "  DISPLAY_FIRST_LAST POSITION\n",
      "0       Steven Adams   Center\n",
      "  DISPLAY_FIRST_LAST POSITION\n",
      "0      Arron Afflalo    Guard\n",
      "  DISPLAY_FIRST_LAST POSITION\n",
      "0      Alexis Ajinca   Center\n",
      "  DISPLAY_FIRST_LAST POSITION\n",
      "0       Cole Aldrich   Center\n",
      "  DISPLAY_FIRST_LAST POSITION\n",
      "0  LaMarcus Aldridge  Forward\n",
      "  DISPLAY_FIRST_LAST        POSITION\n",
      "0        Lavoy Allen  Forward-Center\n",
      "  DISPLAY_FIRST_LAST       POSITION\n",
      "0         Tony Allen  Guard-Forward\n",
      "  DISPLAY_FIRST_LAST POSITION\n",
      "0    Al-Farouq Aminu  Forward\n"
     ]
    }
   ],
   "source": [
    "# get player position for all players\n",
    "\n",
    "\n",
    "for pid in players2016[\"PERSON_ID\"].unique()[0:10]:\n",
    "    \n",
    "    player_demog = goldsberry.player.demographics(pid)\n",
    "    player_demog_df = pd.DataFrame(player_demog.player_info())\n",
    "    \n",
    "    print player_demog_df[[\"DISPLAY_FIRST_LAST\", \"POSITION\"]]\n",
    "    \n",
    "    player_logs = goldsberry.player.game_logs(pid)\n",
    "    player_logs_df = pd.DataFrame(player_logs.logs())\n",
    "    "
   ]
  },
  {
   "cell_type": "code",
   "execution_count": null,
   "metadata": {
    "collapsed": true
   },
   "outputs": [],
   "source": []
  }
 ],
 "metadata": {
  "kernelspec": {
   "display_name": "Python 2",
   "language": "python",
   "name": "python2"
  },
  "language_info": {
   "codemirror_mode": {
    "name": "ipython",
    "version": 2
   },
   "file_extension": ".py",
   "mimetype": "text/x-python",
   "name": "python",
   "nbconvert_exporter": "python",
   "pygments_lexer": "ipython2",
   "version": "2.7.12"
  }
 },
 "nbformat": 4,
 "nbformat_minor": 0
}
